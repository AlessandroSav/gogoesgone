{
 "cells": [
  {
   "cell_type": "code",
   "execution_count": 9,
   "metadata": {},
   "outputs": [
    {
     "data": {
      "text/plain": [
       "<module 'src.parallel_plotting' from '/Users/geet/Documents/Repositories/Owned/goesdata/notebooks/../src/parallel_plotting.py'>"
      ]
     },
     "execution_count": 9,
     "metadata": {},
     "output_type": "execute_result"
    }
   ],
   "source": [
    "from importlib import reload\n",
    "import os \n",
    "import pathlib\n",
    "import sys\n",
    "sys.path.append('..')\n",
    "\n",
    "from kerchunk.hdf import SingleHdf5ToZarr \n",
    "from kerchunk.combine import MultiZarrToZarr\n",
    "\n",
    "import cartopy.crs as ccrs\n",
    "import cartopy.feature as cfeature \n",
    "from cartopy.mpl.gridliner import LONGITUDE_FORMATTER, LATITUDE_FORMATTER\n",
    "import xarray as xr\n",
    "import numpy as np\n",
    "import matplotlib.pyplot as plt\n",
    "import matplotlib.ticker as mticker\n",
    "from mpl_toolkits.axes_grid1 import make_axes_locatable\n",
    "import s3fs\n",
    "import datetime as dt\n",
    "\n",
    "import logging\n",
    "import fsspec\n",
    "import ujson\n",
    "from tqdm import tqdm\n",
    "from glob import glob\n",
    "import seaborn as sb\n",
    "\n",
    "from src import processing as pr, parallel_plotting as pp\n",
    "reload(pr)\n",
    "reload(pp)"
   ]
  },
  {
   "cell_type": "code",
   "execution_count": null,
   "metadata": {},
   "outputs": [],
   "source": [
    "fs = fsspec.filesystem('s3', anon=True)\n",
    "urls = []\n",
    "\n",
    "for i in tqdm(range(240,270)):\n",
    "    for f in fs.glob(f\"s3://noaa-goes16/ABI-L2-CMIPF/2021/{i}/*/*C13*.nc\"):\n",
    "        urls.append('s3://' + f)"
   ]
  },
  {
   "cell_type": "code",
   "execution_count": null,
   "metadata": {},
   "outputs": [],
   "source": [
    "len(urls)"
   ]
  },
  {
   "cell_type": "code",
   "execution_count": null,
   "metadata": {},
   "outputs": [],
   "source": [
    "def gen_json(u):\n",
    "    so = dict(\n",
    "        mode=\"rb\", anon=True, default_fill_cache=False,\n",
    "        default_cache_type=\"none\"\n",
    "    )\n",
    "    with fsspec.open(u, **so) as inf:\n",
    "        h5chunks = SingleHdf5ToZarr(inf, u, inline_threshold=300)\n",
    "        if os.path.isfile(\"jsons/{u.split('/')[-1]}.json\"):\n",
    "            pass\n",
    "        else:\n",
    "            with open(f\"jsons/{u.split('/')[-1]}.json\", 'wb') as outf:\n",
    "                outf.write(ujson.dumps(h5chunks.translate()).encode())"
   ]
  },
  {
   "cell_type": "code",
   "execution_count": null,
   "metadata": {},
   "outputs": [],
   "source": [
    "pathlib.Path('./jsons/').mkdir(exist_ok=True)\n",
    "\n",
    "dask.compute(*[dask.delayed(gen_json)(u) for u in urls]);"
   ]
  },
  {
   "cell_type": "code",
   "execution_count": 2,
   "metadata": {},
   "outputs": [],
   "source": [
    "json_list = sorted(glob(\"./jsons/*CMIPF*.json\"))"
   ]
  },
  {
   "cell_type": "code",
   "execution_count": 3,
   "metadata": {},
   "outputs": [
    {
     "name": "stderr",
     "output_type": "stream",
     "text": [
      "100%|██████████| 8587/8587 [00:34<00:00, 249.12it/s]\n"
     ]
    }
   ],
   "source": [
    "m_list = []\n",
    "for js in tqdm(json_list):\n",
    "    with open(js) as f:\n",
    "        m_list.append(fsspec.get_mapper(\"reference://\", \n",
    "            fo=ujson.load(f), remote_protocol=\"s3\",\n",
    "            remote_options={\"anon\": True}))"
   ]
  },
  {
   "cell_type": "code",
   "execution_count": 4,
   "metadata": {},
   "outputs": [],
   "source": [
    "json_list = sorted(glob('./jsons/*.json'))\n",
    "\n",
    "mzz = MultiZarrToZarr(\n",
    "    json_list,\n",
    "    remote_protocol=\"s3\",\n",
    "    remote_options={'anon':True},\n",
    "    concat_dims='t',\n",
    "    inline_threshold=0\n",
    ")\n",
    "\n",
    "mzz.translate('./combined.json')"
   ]
  },
  {
   "cell_type": "code",
   "execution_count": 5,
   "metadata": {},
   "outputs": [],
   "source": [
    "fs = fsspec.filesystem(\n",
    "    \"reference\", \n",
    "    fo=\"./combined.json\", \n",
    "    remote_protocol=\"s3\", \n",
    "    remote_options={\"anon\":True},\n",
    "    skip_instance_cache=True\n",
    ")\n",
    "m = fs.get_mapper(\"\")"
   ]
  },
  {
   "cell_type": "code",
   "execution_count": 6,
   "metadata": {},
   "outputs": [
    {
     "name": "stderr",
     "output_type": "stream",
     "text": [
      "/Users/geet/Documents/Repositories/Owned/goesdata/notebooks/../src/processing.py:27: RuntimeWarning: Failed to open Zarr store with consolidated metadata, but successfully read with non-consolidated metadata. This is typically much slower for opening a dataset. To silence this warning, consider:\n",
      "1. Consolidating metadata in this existing store with zarr.consolidate_metadata().\n",
      "2. Explicitly setting consolidated=False, to avoid trying to read consolidate metadata, or\n",
      "3. Explicitly setting consolidated=True, to raise an error in this case instead of falling back to try reading non-consolidated metadata.\n",
      "  self.dataset = xr.open_dataset(filepath, engine=\"zarr\")\n"
     ]
    }
   ],
   "source": [
    "img = pr.Image(m)\n",
    "extent_ds = (-65,-10,-8,20)\n",
    "extent = (-60,-20,-5,15)\n",
    "\n",
    "ds = img.subset_region_from_latlon_extents(extent_ds, unit=\"degree\")"
   ]
  },
  {
   "cell_type": "code",
   "execution_count": 7,
   "metadata": {},
   "outputs": [],
   "source": [
    "data = ds.metpy.parse_cf(\"CMI\")\n",
    "geostationary = data.metpy.cartopy_crs\n",
    "\n",
    "pc = ccrs.PlateCarree()\n",
    "\n",
    "# Sweep the ABI data from the x (north/south) and y (east/west) axes\n",
    "x = data.x\n",
    "y = data.y\n",
    "\n",
    "# Use the geostationary projection to plot the image on a map\n",
    "# This method streches the image across a map with the same projection and dimensions as the data\n",
    "sb.set_context(\"paper\")"
   ]
  },
  {
   "cell_type": "code",
   "execution_count": 11,
   "metadata": {},
   "outputs": [
    {
     "name": "stderr",
     "output_type": "stream",
     "text": [
      " 85%|████████▍ | 7251/8573 [4:25:25<28:34:19, 77.81s/it]  "
     ]
    }
   ],
   "source": [
    "for t in tqdm(ds.t):\n",
    "    save_file = f'Plots/{t.values}.png'\n",
    "\n",
    "    if os.path.isfile(save_file):\n",
    "        pass\n",
    "    else:\n",
    "        fig = plt.figure()\n",
    "\n",
    "        # Create axis with Geostationary projection\n",
    "        ax = fig.add_subplot(1, 1, 1, projection=pc)\n",
    "        ax.set_extent(extent, crs=pc)\n",
    "\n",
    "        # Add the RGB True Color image to the figure. The data is in the same projection as the axis created\n",
    "        im = ax.imshow(ds.sel(t=t).CMI, origin='upper',\n",
    "                extent=(x.min(), x.max(), y.min(), y.max()), transform=geostationary,\n",
    "                cmap='cubehelix_r',vmin=185,vmax=310)\n",
    "        # ax.set_extent(extent, crs=ccrs.PlateCarree())\n",
    "        # Add coastlines and states\n",
    "        ax.coastlines(resolution='10m', color='w', linewidth=.25)\n",
    "\n",
    "        #Add title\n",
    "        plt.title(f\"{t.values}\")\n",
    "        plt.colorbar(im,orientation='horizontal',label='Channel 13 Brightness Temperature / K')\n",
    "\n",
    "        # # # Draw grid.\n",
    "        gl = ax.gridlines(ccrs.PlateCarree(), linewidth = .5, color = 'w', alpha = 0.5, linestyle=':', draw_labels = True)\n",
    "        gl.top_labels = False\n",
    "        gl.right_labels = False\n",
    "        gl.xlines = True\n",
    "        gl.ylines = True\n",
    "        gl.xlocator = mticker.FixedLocator(np.arange(-180, 180, 10))\n",
    "        gl.ylocator = mticker.FixedLocator(np.arange(-90, 90, 10))\n",
    "        gl.xformatter = LONGITUDE_FORMATTER\n",
    "        gl.yformatter = LATITUDE_FORMATTER\n",
    "        gl.xlabel_style = {'color': 'grey'} \n",
    "        gl.ylabel_style = {'color': 'grey'}\n",
    "        \n",
    "        plt.savefig(save_file,dpi=250,bbox_inches='tight')\n",
    "        plt.close()"
   ]
  },
  {
   "cell_type": "code",
   "execution_count": null,
   "metadata": {},
   "outputs": [],
   "source": []
  }
 ],
 "metadata": {
  "kernelspec": {
   "display_name": "Python 3",
   "language": "python",
   "name": "python3"
  },
  "language_info": {
   "codemirror_mode": {
    "name": "ipython",
    "version": 3
   },
   "file_extension": ".py",
   "mimetype": "text/x-python",
   "name": "python",
   "nbconvert_exporter": "python",
   "pygments_lexer": "ipython3",
   "version": "3.10.11"
  },
  "orig_nbformat": 4
 },
 "nbformat": 4,
 "nbformat_minor": 2
}
